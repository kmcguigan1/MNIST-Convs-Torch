{
  "cells": [
    {
      "cell_type": "markdown",
      "metadata": {
        "id": "view-in-github",
        "colab_type": "text"
      },
      "source": [
        "<a href=\"https://colab.research.google.com/github/kmcguigan1/MNIST-Convs-Torch/blob/submission/MNIST_Model_Optuna_Parameters.ipynb\" target=\"_parent\"><img src=\"https://colab.research.google.com/assets/colab-badge.svg\" alt=\"Open In Colab\"/></a>"
      ]
    },
    {
      "cell_type": "code",
      "execution_count": null,
      "metadata": {
        "id": "nceQSHJN0pX-"
      },
      "outputs": [],
      "source": [
        "# import statements\n",
        "import torch\n",
        "import torch.nn as nn\n",
        "import torch.nn.functional as F\n",
        "import torch.optim as optim\n",
        "import torchvision\n",
        "\n",
        "from matplotlib import pyplot as plt\n",
        "from sklearn.metrics import accuracy_score"
      ]
    },
    {
      "cell_type": "code",
      "execution_count": null,
      "metadata": {
        "colab": {
          "base_uri": "https://localhost:8080/",
          "height": 36
        },
        "id": "Jt0mWZCw0uch",
        "outputId": "2ab548a5-a908-4997-df8f-8a6db02613e9"
      },
      "outputs": [
        {
          "data": {
            "application/vnd.google.colaboratory.intrinsic+json": {
              "type": "string"
            },
            "text/plain": [
              "'cuda'"
            ]
          },
          "execution_count": 2,
          "metadata": {},
          "output_type": "execute_result"
        }
      ],
      "source": [
        "# use Cuda: change runtime environment to T4 GPU\n",
        "DEVICE = \"cuda\" if torch.cuda.is_available() else \"cpu\"\n",
        "DEVICE"
      ]
    },
    {
      "cell_type": "code",
      "execution_count": null,
      "metadata": {
        "id": "3d5YlP0Y0v7x"
      },
      "outputs": [],
      "source": [
        "# initialize parameters\n",
        "\n",
        "# mean and standard deviation corresponding to the MNIST dataset\n",
        "mnist_mean = 0.1307\n",
        "mnist_std_dev = 0.3081\n",
        "\n",
        "# train and test batch sizes\n",
        "train_batch_size = 512\n",
        "test_batch_size = 1000\n",
        "\n",
        "# learning rate\n",
        "lr = 0.0021\n",
        "# number of epochs\n",
        "epochs = 20"
      ]
    },
    {
      "cell_type": "code",
      "execution_count": null,
      "metadata": {
        "id": "Dg5fsPTl03eS"
      },
      "outputs": [],
      "source": [
        "def plot_mnist(data):\n",
        "    \"\"\"\n",
        "    Function that plots the MNIST images\n",
        "\n",
        "    Parameters\n",
        "    ----------\n",
        "    data: the image to be plotted\n",
        "    \"\"\"\n",
        "    # plot a subset of MNIST examples\n",
        "    fig, axs = plt.subplots(4, 5, figsize=(5, 6))\n",
        "\n",
        "    plot_images = []\n",
        "    plot_labels = []\n",
        "\n",
        "    for i, ax in enumerate(axs.flatten(), start=1000):\n",
        "        (image, label) = data[i]\n",
        "\n",
        "        # save the data\n",
        "        plot_images.append(image)\n",
        "        plot_labels.append(label)\n",
        "\n",
        "        # plot each image\n",
        "        ax.imshow(image.squeeze(), cmap=\"gray\")\n",
        "        ax.set_title(f\"Label: {label}\")\n",
        "        ax.axis(\"off\")\n",
        "    plt.show()"
      ]
    },
    {
      "cell_type": "code",
      "execution_count": null,
      "metadata": {
        "colab": {
          "base_uri": "https://localhost:8080/",
          "height": 851
        },
        "id": "3O3HT5p8054g",
        "outputId": "5660b658-cb61-4122-a24a-52c9120d3d62"
      },
      "outputs": [
        {
          "name": "stdout",
          "output_type": "stream",
          "text": [
            "Downloading http://yann.lecun.com/exdb/mnist/train-images-idx3-ubyte.gz\n",
            "Downloading http://yann.lecun.com/exdb/mnist/train-images-idx3-ubyte.gz to ./files/MNIST/raw/train-images-idx3-ubyte.gz\n"
          ]
        },
        {
          "name": "stderr",
          "output_type": "stream",
          "text": [
            "100%|██████████| 9912422/9912422 [00:00<00:00, 35159104.38it/s]\n"
          ]
        },
        {
          "name": "stdout",
          "output_type": "stream",
          "text": [
            "Extracting ./files/MNIST/raw/train-images-idx3-ubyte.gz to ./files/MNIST/raw\n",
            "\n",
            "Downloading http://yann.lecun.com/exdb/mnist/train-labels-idx1-ubyte.gz\n",
            "Downloading http://yann.lecun.com/exdb/mnist/train-labels-idx1-ubyte.gz to ./files/MNIST/raw/train-labels-idx1-ubyte.gz\n"
          ]
        },
        {
          "name": "stderr",
          "output_type": "stream",
          "text": [
            "100%|██████████| 28881/28881 [00:00<00:00, 97141695.13it/s]\n"
          ]
        },
        {
          "name": "stdout",
          "output_type": "stream",
          "text": [
            "Extracting ./files/MNIST/raw/train-labels-idx1-ubyte.gz to ./files/MNIST/raw\n",
            "\n",
            "Downloading http://yann.lecun.com/exdb/mnist/t10k-images-idx3-ubyte.gz\n",
            "Downloading http://yann.lecun.com/exdb/mnist/t10k-images-idx3-ubyte.gz to ./files/MNIST/raw/t10k-images-idx3-ubyte.gz\n"
          ]
        },
        {
          "name": "stderr",
          "output_type": "stream",
          "text": [
            "100%|██████████| 1648877/1648877 [00:00<00:00, 37696382.36it/s]\n"
          ]
        },
        {
          "name": "stdout",
          "output_type": "stream",
          "text": [
            "Extracting ./files/MNIST/raw/t10k-images-idx3-ubyte.gz to ./files/MNIST/raw\n",
            "\n",
            "Downloading http://yann.lecun.com/exdb/mnist/t10k-labels-idx1-ubyte.gz\n",
            "Downloading http://yann.lecun.com/exdb/mnist/t10k-labels-idx1-ubyte.gz to ./files/MNIST/raw/t10k-labels-idx1-ubyte.gz\n"
          ]
        },
        {
          "name": "stderr",
          "output_type": "stream",
          "text": [
            "100%|██████████| 4542/4542 [00:00<00:00, 3435622.86it/s]"
          ]
        },
        {
          "name": "stdout",
          "output_type": "stream",
          "text": [
            "Extracting ./files/MNIST/raw/t10k-labels-idx1-ubyte.gz to ./files/MNIST/raw\n",
            "\n"
          ]
        },
        {
          "name": "stderr",
          "output_type": "stream",
          "text": [
            "\n"
          ]
        },
        {
          "data": {
            "image/png": "[encoded data removed]",
            "text/plain": [
              "<Figure size 500x600 with 20 Axes>"
            ]
          },
          "metadata": {},
          "output_type": "display_data"
        }
      ],
      "source": [
        "# train and test image transforms\n",
        "train_transform = torchvision.transforms.Compose([\n",
        "    torchvision.transforms.ToTensor(),\n",
        "    torchvision.transforms.RandomRotation(degrees=12),\n",
        "    torchvision.transforms.GaussianBlur(3, sigma=0.0420)\n",
        "])\n",
        "\n",
        "test_transform = torchvision.transforms.Compose([\n",
        "    torchvision.transforms.ToTensor()\n",
        "])\n",
        "\n",
        "# train and test data\n",
        "train_data = torchvision.datasets.MNIST('./files/', train=True, download=True, transform=train_transform)\n",
        "test_data = torchvision.datasets.MNIST('./files/', train=False, download=True, transform=test_transform)\n",
        "\n",
        "# train and test data loaders\n",
        "train_loader = torch.utils.data.DataLoader(train_data, batch_size=train_batch_size, shuffle=True)\n",
        "test_loader = torch.utils.data.DataLoader(test_data, batch_size=test_batch_size)\n",
        "\n",
        "# plot examples of training data\n",
        "plot_mnist(train_data)"
      ]
    },
    {
      "cell_type": "code",
      "execution_count": null,
      "metadata": {
        "id": "yGizZzBa07nD"
      },
      "outputs": [],
      "source": [
        "class CNN(nn.Module):\n",
        "    \"\"\"\n",
        "    Pytorch CNN Model\n",
        "    \"\"\"\n",
        "    def __init__(self):\n",
        "        super().__init__()\n",
        "        # convolution\n",
        "        self.input_conv = nn.Conv2d(1, 32, kernel_size=3, stride=1, padding=1)\n",
        "        self.input_norm = nn.BatchNorm2d(32)\n",
        "        self.input_relu = nn.ReLU()\n",
        "        self.input_pool = nn.MaxPool2d(kernel_size=2, stride=2)\n",
        "\n",
        "        self.hidden_conv = nn.Conv2d(32, 64, kernel_size=3, stride=1, padding=1)\n",
        "        self.hidden_norm = nn.BatchNorm2d(64)\n",
        "        self.hidden_relu = nn.ReLU()\n",
        "        self.hidden_pool = nn.MaxPool2d(kernel_size=2, stride=2)\n",
        "\n",
        "        self.output_conv = nn.Conv2d(64, 128, kernel_size=3, stride=1, padding=1)\n",
        "        self.output_norm = nn.BatchNorm2d(128)\n",
        "        self.output_relu = nn.ReLU()\n",
        "        self.output_pool = nn.AdaptiveAvgPool2d(output_size=(1, 1))\n",
        "\n",
        "        # classification\n",
        "        self.dropout1 = nn.Dropout(0.0815)\n",
        "        self.input_dense = nn.Linear(128,64)\n",
        "        self.input_dense_norm = nn.BatchNorm1d(64)\n",
        "        self.input_dense_relu = nn.ReLU()\n",
        "        self.dropout2 = nn.Dropout(0.0815)\n",
        "        self.output_dense = nn.Linear(64, 10)\n",
        "        self.softmax = nn.Softmax(dim=1)\n",
        "\n",
        "\n",
        "    def forward(self, x):\n",
        "        \"\"\"\n",
        "        Function corresponding to the forward pass of the network\n",
        "\n",
        "        Parameters\n",
        "        ----------\n",
        "            x : the input Tensor\n",
        "        Returns\n",
        "        ----------\n",
        "            x: the output Tensor\n",
        "        \"\"\"\n",
        "        x = self.input_conv(x)\n",
        "        x = self.input_norm(x)\n",
        "        x = self.input_relu(x)\n",
        "        x = self.input_pool(x)\n",
        "\n",
        "        x = self.hidden_conv(x)\n",
        "        x = self.hidden_norm(x)\n",
        "        x = self.hidden_relu(x)\n",
        "        x = self.hidden_pool(x)\n",
        "\n",
        "        x = self.output_conv(x)\n",
        "        x = self.output_norm(x)\n",
        "        x = self.output_relu(x)\n",
        "        x = self.output_pool(x)\n",
        "\n",
        "        x = self.dropout1(x)\n",
        "\n",
        "        x = x.squeeze()\n",
        "\n",
        "        x = self.input_dense(x)\n",
        "        x = self.input_dense_norm(x)\n",
        "        x = self.input_dense_relu(x)\n",
        "        x = self.dropout2(x)\n",
        "\n",
        "        x = self.output_dense(x)\n",
        "        x = self.softmax(x)\n",
        "\n",
        "        return x"
      ]
    },
    {
      "cell_type": "code",
      "execution_count": null,
      "metadata": {
        "id": "FC0-2YvD1BQR"
      },
      "outputs": [],
      "source": [
        "def train(model, train_loader, loss_fn, optimizer, epoch=-1):\n",
        "    \"\"\"\n",
        "    Function used in training the Pytorch model for one epoch\n",
        "\n",
        "    Parameters\n",
        "    ----------\n",
        "    model: the Pytorch model\n",
        "    train_loader: the Pytorch data loader for the training data\n",
        "    loss_fn: the Pytorch loss function\n",
        "    optimizer: the Pytorch optimizer\n",
        "    epoch: the current epoch\n",
        "\n",
        "    Returns\n",
        "    ----------\n",
        "    acc: the accuracy score\n",
        "    final_loss: the final loss\n",
        "    \"\"\"\n",
        "    # initialize parameters\n",
        "    total_loss = 0\n",
        "    all_predictions = []\n",
        "    all_targets = []\n",
        "    loss_history = []\n",
        "\n",
        "    model = model.to(DEVICE) # included so we can use Cuda\n",
        "    model.train()  # set the model in training mode\n",
        "\n",
        "    for i, (inputs, targets) in enumerate(train_loader): # fetch the next batch of data\n",
        "        optimizer.zero_grad() # zero the parameter gradients\n",
        "        inputs = inputs.to(DEVICE) # for use of Cuda\n",
        "        outputs = model(inputs) # compute the model outputs\n",
        "        loss = loss_fn(outputs, targets.to(DEVICE)) # compute the loss between model outputs and targets (using Cuda)\n",
        "        loss.backward() # backpropagation\n",
        "        optimizer.step() # gradient descent\n",
        "\n",
        "\n",
        "        # Track some values to compute statistics\n",
        "        total_loss += loss.item()\n",
        "        # compute the model predictions\n",
        "        preds = torch.argmax(outputs, dim=-1) # class with the highest output is the prediction\n",
        "\n",
        "        # track predictions and targets (using Cuda)\n",
        "        all_predictions.extend(preds.detach().cpu().tolist())\n",
        "        all_targets.extend(targets.cpu().tolist())\n",
        "\n",
        "        # save the loss every 100 batches\n",
        "        if (i % 100 == 0) and (i > 0):\n",
        "            running_loss = total_loss / (i + 1)\n",
        "            loss_history.append(running_loss)\n",
        "\n",
        "    # compute the accuracy score and final loss\n",
        "    acc = accuracy_score(all_targets, all_predictions)\n",
        "    final_loss = total_loss / len(train_loader)\n",
        "\n",
        "    # print the average loss and accuracy\n",
        "    print(f\"Epoch {epoch + 1}: average train loss = {final_loss:.2f}, average train accuracy = {acc * 100:.3f}%\")\n",
        "    return acc, final_loss"
      ]
    },
    {
      "cell_type": "code",
      "execution_count": null,
      "metadata": {
        "id": "GNCrqAF91B-1"
      },
      "outputs": [],
      "source": [
        "def test(model, test_loader, loss_fn, epoch=-1):\n",
        "    \"\"\"\n",
        "    Function used in testing the Pytorch model for one epoch\n",
        "\n",
        "    Parameters\n",
        "    ----------\n",
        "    model: the Pytorch model\n",
        "    test_loader: the Pytorch data loader for the test data\n",
        "    loss_fn: the Pytorch loss function\n",
        "    epoch: the current epoch\n",
        "\n",
        "    Returns\n",
        "    ----------\n",
        "    acc: the accuracy score\n",
        "    final_loss: the final loss\n",
        "    \"\"\"\n",
        "    # initialize parameters\n",
        "    total_loss = 0\n",
        "    all_predictions = []\n",
        "    all_targets = []\n",
        "\n",
        "    model = model.to(DEVICE) # included so we can use Cuda\n",
        "    model.eval()  # set the model in evaluation mode\n",
        "    for i, (inputs, targets) in enumerate(test_loader): # fetch next batch of data\n",
        "        with torch.no_grad():\n",
        "            outputs = model(inputs.to(DEVICE)) # compute the model predictions (using Cuda)\n",
        "            loss = loss_fn(outputs, targets.to(DEVICE)) # compute the loss between model outputs and targets (using Cuda)\n",
        "\n",
        "            # tracking for statistics\n",
        "            total_loss += loss.item()\n",
        "            preds = torch.argmax(outputs, dim=-1) # class with the highest output is the prediction\n",
        "\n",
        "            # track predictions and targets (using Cuda)\n",
        "            all_predictions.extend(preds.detach().cpu().tolist())\n",
        "            all_targets.extend(targets.cpu().tolist())\n",
        "\n",
        "    # compute the accuracy score and final loss\n",
        "    acc = accuracy_score(all_targets, all_predictions)\n",
        "    final_loss = total_loss / len(test_loader)\n",
        "    # print the average loss and accuracy\n",
        "    print(f\"Epoch {epoch + 1}: average test loss = {final_loss:.2f}, average test accuracy = {acc * 100:.3f}%\")\n",
        "    return acc, final_loss"
      ]
    },
    {
      "cell_type": "code",
      "execution_count": null,
      "metadata": {
        "id": "VBqx9vmd1EV-"
      },
      "outputs": [],
      "source": [
        "# initialize the model\n",
        "torch.manual_seed(0)\n",
        "model = CNN()\n",
        "optimizer = optim.Adam(model.parameters(), lr, weight_decay = 3.9109e-6)\n",
        "loss_fn = nn.CrossEntropyLoss()"
      ]
    },
    {
      "cell_type": "code",
      "execution_count": null,
      "metadata": {
        "colab": {
          "background_save": true,
          "base_uri": "https://localhost:8080/"
        },
        "id": "bpWhNExq1GQj",
        "outputId": "11e71393-badb-4fae-aaf4-ff04f95191ae"
      },
      "outputs": [
        {
          "name": "stdout",
          "output_type": "stream",
          "text": [
            "Epoch 1: average train loss = 1.47, average train accuracy = 99.302%\n",
            "Epoch 1: average test loss = 1.47, average test accuracy = 99.120%\n",
            "Epoch 2: average train loss = 1.47, average train accuracy = 99.317%\n",
            "Epoch 2: average test loss = 1.47, average test accuracy = 99.420%\n",
            "Epoch 3: average train loss = 1.47, average train accuracy = 99.288%\n",
            "Epoch 3: average test loss = 1.47, average test accuracy = 99.210%\n",
            "Epoch 4: average train loss = 1.47, average train accuracy = 99.323%\n",
            "Epoch 4: average test loss = 1.47, average test accuracy = 99.200%\n",
            "Epoch 5: average train loss = 1.47, average train accuracy = 99.322%\n",
            "Epoch 5: average test loss = 1.47, average test accuracy = 99.410%\n",
            "Epoch 6: average train loss = 1.47, average train accuracy = 99.300%\n",
            "Epoch 6: average test loss = 1.47, average test accuracy = 99.140%\n",
            "Epoch 7: average train loss = 1.47, average train accuracy = 99.358%\n",
            "Epoch 7: average test loss = 1.47, average test accuracy = 99.430%\n",
            "Epoch 8: average train loss = 1.47, average train accuracy = 99.338%\n",
            "Epoch 8: average test loss = 1.47, average test accuracy = 99.380%\n",
            "Epoch 9: average train loss = 1.47, average train accuracy = 99.347%\n",
            "Epoch 9: average test loss = 1.47, average test accuracy = 99.310%\n",
            "Epoch 10: average train loss = 1.47, average train accuracy = 99.383%\n",
            "Epoch 10: average test loss = 1.47, average test accuracy = 99.420%\n",
            "Epoch 11: average train loss = 1.47, average train accuracy = 99.362%\n",
            "Epoch 11: average test loss = 1.47, average test accuracy = 99.320%\n",
            "Epoch 12: average train loss = 1.47, average train accuracy = 99.385%\n",
            "Epoch 12: average test loss = 1.47, average test accuracy = 99.440%\n",
            "Epoch 13: average train loss = 1.47, average train accuracy = 99.395%\n",
            "Epoch 13: average test loss = 1.47, average test accuracy = 99.390%\n",
            "Epoch 14: average train loss = 1.47, average train accuracy = 99.430%\n",
            "Epoch 14: average test loss = 1.47, average test accuracy = 99.400%\n",
            "Epoch 15: average train loss = 1.47, average train accuracy = 99.380%\n",
            "Epoch 15: average test loss = 1.47, average test accuracy = 99.420%\n",
            "Epoch 16: average train loss = 1.47, average train accuracy = 99.443%\n",
            "Epoch 16: average test loss = 1.47, average test accuracy = 99.450%\n",
            "Epoch 17: average train loss = 1.47, average train accuracy = 99.443%\n",
            "Epoch 17: average test loss = 1.47, average test accuracy = 99.400%\n",
            "Epoch 18: average train loss = 1.47, average train accuracy = 99.490%\n",
            "Epoch 18: average test loss = 1.47, average test accuracy = 99.450%\n",
            "Epoch 19: average train loss = 1.47, average train accuracy = 99.490%\n",
            "Epoch 19: average test loss = 1.47, average test accuracy = 99.520%\n",
            "Epoch 20: average train loss = 1.47, average train accuracy = 99.480%\n",
            "Epoch 20: average test loss = 1.47, average test accuracy = 99.350%\n"
          ]
        }
      ],
      "source": [
        "train_losses = []\n",
        "test_losses = []\n",
        "train_metrics = []\n",
        "test_metrics = []\n",
        "\n",
        "# train and test the model\n",
        "for epoch in range(epochs):\n",
        "    train_acc, train_loss = train(model, train_loader, loss_fn, optimizer, epoch)\n",
        "    test_acc, test_loss = test(model, test_loader, loss_fn, epoch)\n",
        "\n",
        "    train_losses.append(train_loss)\n",
        "    test_losses.append(test_loss)\n",
        "    train_metrics.append(train_acc)\n",
        "    test_metrics.append(test_acc)"
      ]
    },
    {
      "cell_type": "code",
      "execution_count": null,
      "metadata": {
        "id": "NXS5GHH_1ILp"
      },
      "outputs": [],
      "source": [
        "def plot_stats(train, test, title):\n",
        "    \"\"\"\n",
        "    Function that plots the model's accuracy or loss\n",
        "\n",
        "    Parameters\n",
        "    ----------\n",
        "    train: the metric corresponding to the train data\n",
        "    test: the metric corresponding to the test data\n",
        "    title: the title of the plot\n",
        "    \"\"\"\n",
        "\n",
        "    plt.plot(train, label='Train ' + title)\n",
        "    plt.plot(test, label='Test ' + title)\n",
        "    plt.xlabel(\"Number of Epochs\")\n",
        "    plt.ylabel(title)\n",
        "    plt.legend()\n",
        "    plt.show()\n",
        "\n",
        "plot_stats(train_losses, test_losses, \"Cross Entropy Loss\")\n",
        "plot_stats(train_metrics, test_metrics, \"Accuracy\")"
      ]
    }
  ],
  "metadata": {
    "accelerator": "GPU",
    "colab": {
      "provenance": [],
      "include_colab_link": true
    },
    "kernelspec": {
      "display_name": "Python 3",
      "name": "python3"
    },
    "language_info": {
      "name": "python"
    }
  },
  "nbformat": 4,
  "nbformat_minor": 0
}